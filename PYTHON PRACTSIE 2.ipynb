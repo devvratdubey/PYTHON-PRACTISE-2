{
 "cells": [
  {
   "cell_type": "markdown",
   "id": "f85b8507",
   "metadata": {},
   "source": [
    "#Q1 ANSWER"
   ]
  },
  {
   "cell_type": "code",
   "execution_count": 1,
   "id": "14e1e9d9",
   "metadata": {},
   "outputs": [],
   "source": [
    "a=[2,3,4,5,6,7]"
   ]
  },
  {
   "cell_type": "code",
   "execution_count": 3,
   "id": "349c44db",
   "metadata": {},
   "outputs": [],
   "source": [
    "a.append(\"mango\")"
   ]
  },
  {
   "cell_type": "code",
   "execution_count": 4,
   "id": "cce4a97c",
   "metadata": {},
   "outputs": [],
   "source": [
    "a.extend([\"banana\",\"grapes\",\"orange\"])"
   ]
  },
  {
   "cell_type": "code",
   "execution_count": 5,
   "id": "8a9c9861",
   "metadata": {},
   "outputs": [
    {
     "data": {
      "text/plain": [
       "[2, 3, 4, 5, 6, 7, 'mango', 'banana', 'grapes', 'orange']"
      ]
     },
     "execution_count": 5,
     "metadata": {},
     "output_type": "execute_result"
    }
   ],
   "source": [
    "a"
   ]
  },
  {
   "cell_type": "code",
   "execution_count": 6,
   "id": "5ad795ec",
   "metadata": {},
   "outputs": [
    {
     "data": {
      "text/plain": [
       "'orange'"
      ]
     },
     "execution_count": 6,
     "metadata": {},
     "output_type": "execute_result"
    }
   ],
   "source": [
    "a.pop()"
   ]
  },
  {
   "cell_type": "code",
   "execution_count": 7,
   "id": "6607440b",
   "metadata": {},
   "outputs": [
    {
     "data": {
      "text/plain": [
       "[2, 3, 4, 5, 6, 7, 'mango', 'banana', 'grapes']"
      ]
     },
     "execution_count": 7,
     "metadata": {},
     "output_type": "execute_result"
    }
   ],
   "source": [
    "a"
   ]
  },
  {
   "cell_type": "markdown",
   "id": "5b1ec1ee",
   "metadata": {},
   "source": [
    "#Q2"
   ]
  },
  {
   "cell_type": "code",
   "execution_count": 8,
   "id": "0596acdc",
   "metadata": {},
   "outputs": [],
   "source": [
    "L=[1,2,3,4,5,6,7]"
   ]
  },
  {
   "cell_type": "code",
   "execution_count": 10,
   "id": "8a123407",
   "metadata": {},
   "outputs": [
    {
     "data": {
      "text/plain": [
       "[2, 3, 4]"
      ]
     },
     "execution_count": 10,
     "metadata": {},
     "output_type": "execute_result"
    }
   ],
   "source": [
    "L[1:4]"
   ]
  },
  {
   "cell_type": "markdown",
   "id": "e615f95c",
   "metadata": {},
   "source": [
    "#Q3"
   ]
  },
  {
   "cell_type": "code",
   "execution_count": 11,
   "id": "a7d6f8d1",
   "metadata": {},
   "outputs": [],
   "source": [
    "l=[4,5,6,8,3]"
   ]
  },
  {
   "cell_type": "code",
   "execution_count": 12,
   "id": "0148a046",
   "metadata": {},
   "outputs": [
    {
     "data": {
      "text/plain": [
       "[3, 8, 6, 5, 4]"
      ]
     },
     "execution_count": 12,
     "metadata": {},
     "output_type": "execute_result"
    }
   ],
   "source": [
    "l[::-1]"
   ]
  },
  {
   "cell_type": "markdown",
   "id": "120f28ac",
   "metadata": {},
   "source": [
    "#Q4"
   ]
  },
  {
   "cell_type": "code",
   "execution_count": 34,
   "id": "6ec2ddb0",
   "metadata": {},
   "outputs": [],
   "source": [
    "l=[2,4,7,3,6,8]"
   ]
  },
  {
   "cell_type": "code",
   "execution_count": 35,
   "id": "104ebfa5",
   "metadata": {},
   "outputs": [],
   "source": [
    "result=[i**2 for i in l]"
   ]
  },
  {
   "cell_type": "code",
   "execution_count": 36,
   "id": "08c15487",
   "metadata": {},
   "outputs": [
    {
     "data": {
      "text/plain": [
       "[4, 16, 49, 9, 36, 64]"
      ]
     },
     "execution_count": 36,
     "metadata": {},
     "output_type": "execute_result"
    }
   ],
   "source": [
    "result"
   ]
  },
  {
   "cell_type": "markdown",
   "id": "200d4c2f",
   "metadata": {},
   "source": [
    "#Q5"
   ]
  },
  {
   "cell_type": "code",
   "execution_count": 13,
   "id": "b7f0b2ee",
   "metadata": {},
   "outputs": [],
   "source": [
    "def add(*args):\n",
    "    total=0\n",
    "    for i in args:\n",
    "        total=total+i\n",
    "    return total\n",
    "        "
   ]
  },
  {
   "cell_type": "code",
   "execution_count": 17,
   "id": "fd303327",
   "metadata": {},
   "outputs": [
    {
     "data": {
      "text/plain": [
       "20"
      ]
     },
     "execution_count": 17,
     "metadata": {},
     "output_type": "execute_result"
    }
   ],
   "source": [
    "add(2,3,4,5,6)"
   ]
  },
  {
   "cell_type": "markdown",
   "id": "b2f57e72",
   "metadata": {},
   "source": [
    "#Q6"
   ]
  },
  {
   "cell_type": "code",
   "execution_count": 29,
   "id": "e648810c",
   "metadata": {},
   "outputs": [],
   "source": [
    "a={\"apple\",\"banana\",\"pineapple\",\"strawberry\"}\n",
    "b={\"pineapple\",\"guava\",\"mango\",\"grapes\"}"
   ]
  },
  {
   "cell_type": "code",
   "execution_count": 32,
   "id": "c6851577",
   "metadata": {},
   "outputs": [
    {
     "data": {
      "text/plain": [
       "{'apple', 'banana', 'grapes', 'guava', 'mango', 'pineapple', 'strawberry'}"
      ]
     },
     "execution_count": 32,
     "metadata": {},
     "output_type": "execute_result"
    }
   ],
   "source": [
    "a|b"
   ]
  },
  {
   "cell_type": "code",
   "execution_count": 33,
   "id": "d2b1b4b7",
   "metadata": {},
   "outputs": [
    {
     "data": {
      "text/plain": [
       "{'apple', 'banana', 'grapes', 'guava', 'mango', 'pineapple', 'strawberry'}"
      ]
     },
     "execution_count": 33,
     "metadata": {},
     "output_type": "execute_result"
    }
   ],
   "source": [
    "a.union(b)"
   ]
  },
  {
   "cell_type": "markdown",
   "id": "0cbc11c3",
   "metadata": {},
   "source": [
    "#Q7"
   ]
  },
  {
   "cell_type": "code",
   "execution_count": 37,
   "id": "f54c620a",
   "metadata": {},
   "outputs": [],
   "source": [
    "words={\"apple\",\"banana\",\"pineapple\",\"strawberry\"}"
   ]
  },
  {
   "cell_type": "code",
   "execution_count": 38,
   "id": "b6d90dc8",
   "metadata": {},
   "outputs": [],
   "source": [
    "words.add(\"yogesh\")"
   ]
  },
  {
   "cell_type": "code",
   "execution_count": 39,
   "id": "f2784d64",
   "metadata": {},
   "outputs": [
    {
     "data": {
      "text/plain": [
       "{'apple', 'banana', 'pineapple', 'strawberry', 'yogesh'}"
      ]
     },
     "execution_count": 39,
     "metadata": {},
     "output_type": "execute_result"
    }
   ],
   "source": [
    "words"
   ]
  },
  {
   "cell_type": "markdown",
   "id": "085a457b",
   "metadata": {},
   "source": [
    "#Q8"
   ]
  },
  {
   "cell_type": "code",
   "execution_count": 41,
   "id": "16735379",
   "metadata": {},
   "outputs": [],
   "source": [
    "animals={\"dog\",\"cat\",\"cow\",\"lion\",\"tiger\",\"bear\",\"leopard\"}"
   ]
  },
  {
   "cell_type": "code",
   "execution_count": 42,
   "id": "c36c4f83",
   "metadata": {},
   "outputs": [],
   "source": [
    "animals.remove(\"lion\")"
   ]
  },
  {
   "cell_type": "code",
   "execution_count": 43,
   "id": "917a5fd1",
   "metadata": {},
   "outputs": [
    {
     "data": {
      "text/plain": [
       "{'bear', 'cat', 'cow', 'dog', 'leopard', 'tiger'}"
      ]
     },
     "execution_count": 43,
     "metadata": {},
     "output_type": "execute_result"
    }
   ],
   "source": [
    "animals"
   ]
  },
  {
   "cell_type": "markdown",
   "id": "8efcc1fb",
   "metadata": {},
   "source": [
    "#Q9"
   ]
  },
  {
   "cell_type": "code",
   "execution_count": 44,
   "id": "6f6f523f",
   "metadata": {},
   "outputs": [],
   "source": [
    "favorite_books = {\"1984\", \"To Kill a Mockingbird\", \"Pride and Prejudice\"}\n",
    "favorite_movies = [\"The Shawshank Redemption\", \"The Godfather\", \"The Dark Knight\"]"
   ]
  },
  {
   "cell_type": "code",
   "execution_count": 46,
   "id": "1f8e18a3",
   "metadata": {},
   "outputs": [],
   "source": [
    "c=zip(favorite_books,favorite_movies)"
   ]
  },
  {
   "cell_type": "code",
   "execution_count": 48,
   "id": "36b305d0",
   "metadata": {},
   "outputs": [
    {
     "data": {
      "text/plain": [
       "[('Pride and Prejudice', 'The Shawshank Redemption'),\n",
       " ('1984', 'The Godfather'),\n",
       " ('To Kill a Mockingbird', 'The Dark Knight')]"
      ]
     },
     "execution_count": 48,
     "metadata": {},
     "output_type": "execute_result"
    }
   ],
   "source": [
    "list(c)"
   ]
  },
  {
   "cell_type": "markdown",
   "id": "5098f708",
   "metadata": {},
   "source": [
    "#Q10"
   ]
  },
  {
   "cell_type": "code",
   "execution_count": 51,
   "id": "b592aa67",
   "metadata": {},
   "outputs": [
    {
     "name": "stdout",
     "output_type": "stream",
     "text": [
      "[4, 3, 6, 4]\n"
     ]
    }
   ],
   "source": [
    "mylist=[5,9,12,18,22]\n",
    "result=[]\n",
    "for i in range(len(mylist)-1):\n",
    "    result.append(mylist[i+1]-mylist[i])\n",
    "print(result)"
   ]
  },
  {
   "cell_type": "code",
   "execution_count": null,
   "id": "98abbfa8",
   "metadata": {},
   "outputs": [],
   "source": []
  }
 ],
 "metadata": {
  "kernelspec": {
   "display_name": "Python 3 (ipykernel)",
   "language": "python",
   "name": "python3"
  },
  "language_info": {
   "codemirror_mode": {
    "name": "ipython",
    "version": 3
   },
   "file_extension": ".py",
   "mimetype": "text/x-python",
   "name": "python",
   "nbconvert_exporter": "python",
   "pygments_lexer": "ipython3",
   "version": "3.11.3"
  }
 },
 "nbformat": 4,
 "nbformat_minor": 5
}
